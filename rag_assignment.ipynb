{
  "cells": [
    {
      "cell_type": "markdown",
      "metadata": {
        "id": "view-in-github",
        "colab_type": "text"
      },
      "source": [
        "<a href=\"https://colab.research.google.com/github/midhun-james/gliner-desc/blob/main/rag_assignment.ipynb\" target=\"_parent\"><img src=\"https://colab.research.google.com/assets/colab-badge.svg\" alt=\"Open In Colab\"/></a>"
      ]
    },
    {
      "cell_type": "code",
      "source": [
        "!pip install -q -U google-generativeai langchain-google-genai langchain-community chromadb sentence-transformers"
      ],
      "metadata": {
        "id": "MHWxIwpS5c9g"
      },
      "execution_count": 1,
      "outputs": []
    },
    {
      "cell_type": "code",
      "source": [
        "pip install -q pymupdf"
      ],
      "metadata": {
        "id": "3WEDGhoRAPnn"
      },
      "execution_count": 2,
      "outputs": []
    },
    {
      "cell_type": "code",
      "source": [
        "import os\n",
        "os.environ['GOOGLE_APPLICATION_CREDENTIALS'] = ''\n",
        "os.environ['NO_GCE_CHECK'] = 'True'"
      ],
      "metadata": {
        "id": "XS8OWQxGr96Z"
      },
      "execution_count": 3,
      "outputs": []
    },
    {
      "cell_type": "markdown",
      "source": [
        "Setting up the api key configuration"
      ],
      "metadata": {
        "id": "K2JgrtR7zVVV"
      }
    },
    {
      "cell_type": "code",
      "source": [
        "from google.colab import userdata\n",
        "import os\n",
        "\n",
        "os.environ[\"GOOGLE_API_KEY\"] = userdata.get('GOOGLE_API_KEY')\n",
        "\n",
        "llm = ChatGoogleGenerativeAI(\n",
        "    model=\"gemini-2.5-flash\",\n",
        "    temperature=0,\n",
        "    max_retries=2\n",
        ")\n"
      ],
      "metadata": {
        "id": "LVkgjP776r3g"
      },
      "execution_count": 29,
      "outputs": []
    },
    {
      "cell_type": "code",
      "source": [
        "from langchain.text_splitter import RecursiveCharacterTextSplitter\n",
        "from langchain_community.vectorstores import Chroma\n",
        "from langchain_community.embeddings import SentenceTransformerEmbeddings\n",
        "from langchain.chains import RetrievalQA\n",
        "from langchain_google_genai import ChatGoogleGenerativeAI"
      ],
      "metadata": {
        "id": "WZ0pSkYRBtM8"
      },
      "execution_count": 13,
      "outputs": []
    },
    {
      "cell_type": "markdown",
      "source": [
        "Copied the text in 10-k reports to a txt file.\n",
        "\n",
        "Used fitz package from Pymupdf to extract text from the pdf"
      ],
      "metadata": {
        "id": "p-JVjDUIzdAF"
      }
    },
    {
      "cell_type": "code",
      "source": [
        "import fitz\n",
        "pdf_path='assign_3_data.txt'\n",
        "doc=fitz.open(pdf_path)\n",
        "text=''\n",
        "for page in doc:\n",
        "  text+=page.get_text()\n",
        "print(text[:500])"
      ],
      "metadata": {
        "colab": {
          "base_uri": "https://localhost:8080/"
        },
        "id": "t8r8kTE57B3n",
        "outputId": "eba2999b-26e9-4cfe-a7c9-26e328bb6f0f"
      },
      "execution_count": 12,
      "outputs": [
        {
          "output_type": "stream",
          "name": "stdout",
          "text": [
            " \n",
            " \n",
            "UNITED STATES\n",
            "SECURITIES AND EXCHANGE COMMISSION\n",
            "Washington, D.C. 20549\n",
            " \n",
            "FORM 10-K\n",
            " \n",
            " \n",
            "☒\n",
            "ANNUAL REPORT PURSUANT TO SECTION 13 OR 15(d) OF THE\n",
            "SECURITIES EXCHANGE ACT OF 1934\n",
            " \n",
            " \n",
            " \n",
            "For the Fiscal Year Ended June 30, 2022\n",
            " \n",
            " \n",
            " \n",
            "OR\n",
            " \n",
            " \n",
            "☐\n",
            "TRANSITION REPORT PURSUANT TO SECTION 13 OR 15(d) OF\n",
            "THE SECURITIES EXCHANGE ACT OF 1934\n",
            " \n",
            " \n",
            " \n",
            "For the Transition Period From                  to\n",
            "Commission File Number 001-37845\n",
            " \n",
            "MICROSOFT CORPORATION\n",
            " \n",
            " \n",
            "Washington\n",
            " \n",
            "91-1144442\n",
            "(STATE OF INCORPORATION)\n",
            " \n",
            "(I\n"
          ]
        }
      ]
    },
    {
      "cell_type": "markdown",
      "source": [
        "For text splitting setted the chunk size as 1500 and chunk overlap as 200.\n",
        "\n",
        "Since it is a very large file chunk making chunk size bigger is needed. overlapping is setted inorder to not loose continuity"
      ],
      "metadata": {
        "id": "ptEX8KJYz7a_"
      }
    },
    {
      "cell_type": "code",
      "source": [
        "text_splitter = RecursiveCharacterTextSplitter(\n",
        "    chunk_size=1500,\n",
        "    chunk_overlap=200,\n",
        "    separators=[\"\\n\\n\", \"\\n\", \".\", \" \", \"\"]\n",
        ")\n",
        "chunks=text_splitter.split_text(text)\n",
        "\n"
      ],
      "metadata": {
        "id": "NBVROMBlB9o0"
      },
      "execution_count": 14,
      "outputs": []
    },
    {
      "cell_type": "code",
      "source": [
        "print(f'Total chunks: {len(chunks)}')\n",
        "print(f'first chunk : {chunks[0]}')"
      ],
      "metadata": {
        "colab": {
          "base_uri": "https://localhost:8080/"
        },
        "id": "2VkIuBXDDFPm",
        "outputId": "4b1b5ea4-e0e0-40b5-ee5c-5d14ebb9f502"
      },
      "execution_count": 15,
      "outputs": [
        {
          "output_type": "stream",
          "name": "stdout",
          "text": [
            "Total chunks: 286\n",
            "first chunk : UNITED STATES\n",
            "SECURITIES AND EXCHANGE COMMISSION\n",
            "Washington, D.C. 20549\n",
            " \n",
            "FORM 10-K\n",
            " \n",
            " \n",
            "☒\n",
            "ANNUAL REPORT PURSUANT TO SECTION 13 OR 15(d) OF THE\n",
            "SECURITIES EXCHANGE ACT OF 1934\n",
            " \n",
            " \n",
            " \n",
            "For the Fiscal Year Ended June 30, 2022\n",
            " \n",
            " \n",
            " \n",
            "OR\n",
            " \n",
            " \n",
            "☐\n",
            "TRANSITION REPORT PURSUANT TO SECTION 13 OR 15(d) OF\n",
            "THE SECURITIES EXCHANGE ACT OF 1934\n",
            " \n",
            " \n",
            " \n",
            "For the Transition Period From                  to\n",
            "Commission File Number 001-37845\n",
            " \n",
            "MICROSOFT CORPORATION\n",
            " \n",
            " \n",
            "Washington\n",
            " \n",
            "91-1144442\n",
            "(STATE OF INCORPORATION)\n",
            " \n",
            "(I.R.S. ID)\n",
            " \n",
            "ONE MICROSOFT WAY, REDMOND, Washington 98052-6399\n",
            "(425) 882-8080\n",
            "www.microsoft.com/investor\n",
            " \n",
            " \n",
            " \n",
            " \n",
            " \n",
            "Securities registered pursuant to Section 12(b) of\n",
            "the Act:\n",
            " \n",
            " \n",
            " \n",
            " \n",
            " \n",
            " \n",
            " \n",
            " \n",
            " \n",
            "Title of each class\n",
            " \n",
            "Trading Symbol\n",
            " \n",
            "Name of exchange on which registered\n",
            " \n",
            " \n",
            " \n",
            " \n",
            " \n",
            "Common stock, $0.00000625 par value per share\n",
            " \n",
            "MSFT\n",
            " \n",
            "Nasdaq\n",
            "3.125% Notes due 2028\n",
            " \n",
            "MSFT\n",
            " \n",
            "Nasdaq\n",
            "2.625% Notes due 2033\n",
            " \n",
            "MSFT\n",
            " \n",
            "Nasdaq\n",
            " \n",
            " \n",
            " \n",
            " \n",
            " \n",
            "Securities registered pursuant to Section 12(g) of\n",
            "the Act:\n",
            " \n",
            " \n",
            " \n",
            " \n",
            " \n",
            " \n",
            " \n",
            " \n",
            " \n",
            "None\n",
            " \n",
            " \n",
            " \n",
            " \n",
            "Indicate by check mark if the registrant is a well-\n",
            "known seasoned issuer, as defined in Rule 405 of the\n",
            "Securities Act.    Yes  ☒    No  ☐\n",
            "Indicate by check mark if the registrant is not\n",
            "required to file reports pursuant to Section 13 or\n",
            "Section 15(d) of the Act.    Yes  ☐    No  ☒\n",
            "Indicate by check mark whether the registrant (1) has\n",
            "filed all reports required to be filed by Section 13\n",
            "or 15(d) of the Securities Exchange Act of 1934\n"
          ]
        }
      ]
    },
    {
      "cell_type": "markdown",
      "source": [
        "For RAG we need these text chunks as documents.\n",
        "\n",
        "By doing this we can get a metadata along with the text content"
      ],
      "metadata": {
        "id": "JuOcTY4W0epb"
      }
    },
    {
      "cell_type": "code",
      "source": [
        "docs = text_splitter.create_documents([text])\n",
        "print(f\"Total documents: {len(docs)}\")\n",
        "print(docs[0].page_content[:300])"
      ],
      "metadata": {
        "colab": {
          "base_uri": "https://localhost:8080/"
        },
        "id": "KWa4oKjwDh5Y",
        "outputId": "34a84126-7c17-4416-ccb2-fdb4bd1a9f68"
      },
      "execution_count": 16,
      "outputs": [
        {
          "output_type": "stream",
          "name": "stdout",
          "text": [
            "Total documents: 286\n",
            "UNITED STATES\n",
            "SECURITIES AND EXCHANGE COMMISSION\n",
            "Washington, D.C. 20549\n",
            " \n",
            "FORM 10-K\n",
            " \n",
            " \n",
            "☒\n",
            "ANNUAL REPORT PURSUANT TO SECTION 13 OR 15(d) OF THE\n",
            "SECURITIES EXCHANGE ACT OF 1934\n",
            " \n",
            " \n",
            " \n",
            "For the Fiscal Year Ended June 30, 2022\n",
            " \n",
            " \n",
            " \n",
            "OR\n",
            " \n",
            " \n",
            "☐\n",
            "TRANSITION REPORT PURSUANT TO SECTION 13 OR 15(d) OF\n",
            "THE SECURIT\n"
          ]
        }
      ]
    },
    {
      "cell_type": "code",
      "source": [
        "embedding_function = SentenceTransformerEmbeddings(model_name=\"sentence-transformers/all-MiniLM-L6-v2\")\n",
        "\n"
      ],
      "metadata": {
        "colab": {
          "base_uri": "https://localhost:8080/"
        },
        "id": "8dHUYTbLECb7",
        "outputId": "9bfa8ce3-8285-4bda-b7ff-f6a22400ee32"
      },
      "execution_count": 17,
      "outputs": [
        {
          "output_type": "stream",
          "name": "stderr",
          "text": [
            "/tmp/ipython-input-3551722535.py:1: LangChainDeprecationWarning: The class `HuggingFaceEmbeddings` was deprecated in LangChain 0.2.2 and will be removed in 1.0. An updated version of the class exists in the :class:`~langchain-huggingface package and should be used instead. To use it run `pip install -U :class:`~langchain-huggingface` and import as `from :class:`~langchain_huggingface import HuggingFaceEmbeddings``.\n",
            "  embedding_function = SentenceTransformerEmbeddings(model_name=\"sentence-transformers/all-MiniLM-L6-v2\")\n",
            "/usr/local/lib/python3.12/dist-packages/huggingface_hub/utils/_auth.py:94: UserWarning: \n",
            "The secret `HF_TOKEN` does not exist in your Colab secrets.\n",
            "To authenticate with the Hugging Face Hub, create a token in your settings tab (https://huggingface.co/settings/tokens), set it as secret in your Google Colab and restart your session.\n",
            "You will be able to reuse this secret in all of your notebooks.\n",
            "Please note that authentication is recommended but still optional to access public models or datasets.\n",
            "  warnings.warn(\n"
          ]
        }
      ]
    },
    {
      "cell_type": "code",
      "source": [
        "# Create a Chroma vector store and persist it locally\n",
        "db = Chroma.from_documents(documents=docs, embedding=embedding_function, persist_directory=\"chroma_store\")\n",
        "\n",
        "# Save to disk\n",
        "db.persist()"
      ],
      "metadata": {
        "colab": {
          "base_uri": "https://localhost:8080/"
        },
        "id": "dT7ByaIvHOU8",
        "outputId": "9142cc03-75b2-47c9-c380-8d353288aa8d"
      },
      "execution_count": 18,
      "outputs": [
        {
          "output_type": "stream",
          "name": "stderr",
          "text": [
            "/tmp/ipython-input-2790807997.py:5: LangChainDeprecationWarning: Since Chroma 0.4.x the manual persistence method is no longer supported as docs are automatically persisted.\n",
            "  db.persist()\n"
          ]
        }
      ]
    },
    {
      "cell_type": "markdown",
      "source": [
        "Set {\"k\": 3} which means the retriever picks up 3 chunks or documents"
      ],
      "metadata": {
        "id": "SGiNGL1T0yoN"
      }
    },
    {
      "cell_type": "code",
      "source": [
        "persist_directory = \"chroma_store\"\n",
        "\n",
        "embedding_model = SentenceTransformerEmbeddings(\n",
        "    model_name=\"sentence-transformers/all-MiniLM-L6-v2\"\n",
        ")\n",
        "\n",
        "vector_store = Chroma(\n",
        "    persist_directory=persist_directory,\n",
        "    embedding_function=embedding_model\n",
        ")\n",
        "\n",
        "retriever = vector_store.as_retriever(search_kwargs={\"k\": 3})"
      ],
      "metadata": {
        "colab": {
          "base_uri": "https://localhost:8080/"
        },
        "id": "JYiBqZ9rJWEC",
        "outputId": "bc0e89b7-0705-42f4-f933-d6cfdab551be"
      },
      "execution_count": 19,
      "outputs": [
        {
          "output_type": "stream",
          "name": "stderr",
          "text": [
            "/tmp/ipython-input-3897217600.py:7: LangChainDeprecationWarning: The class `Chroma` was deprecated in LangChain 0.2.9 and will be removed in 1.0. An updated version of the class exists in the :class:`~langchain-chroma package and should be used instead. To use it run `pip install -U :class:`~langchain-chroma` and import as `from :class:`~langchain_chroma import Chroma``.\n",
            "  vector_store = Chroma(\n"
          ]
        }
      ]
    },
    {
      "cell_type": "markdown",
      "source": [
        "QA chain is defined where chain type is set as 'stuff' which is a simple mode whch will stuff all the retrived chunks into a single prompt"
      ],
      "metadata": {
        "id": "ztEaI9j71H61"
      }
    },
    {
      "cell_type": "code",
      "source": [
        "qa_chain = RetrievalQA.from_chain_type(\n",
        "    llm=llm,\n",
        "    chain_type=\"stuff\",\n",
        "    retriever=retriever,\n",
        "    return_source_documents=True\n",
        ")"
      ],
      "metadata": {
        "id": "kpzTUpRIJtlc"
      },
      "execution_count": 20,
      "outputs": []
    },
    {
      "cell_type": "code",
      "source": [
        "query = \"What were the company's total revenues for the fiscal year that ended on June 30, 2022?\"\n",
        "result = qa_chain.invoke(query)\n"
      ],
      "metadata": {
        "id": "rH3HJ0TmKQdh"
      },
      "execution_count": 21,
      "outputs": []
    },
    {
      "cell_type": "code",
      "source": [
        "result['result']"
      ],
      "metadata": {
        "colab": {
          "base_uri": "https://localhost:8080/",
          "height": 35
        },
        "id": "L3tLMSL2uFlI",
        "outputId": "cdf2b2a7-c356-4edb-da4e-a4eabf5ad1a3"
      },
      "execution_count": 22,
      "outputs": [
        {
          "output_type": "execute_result",
          "data": {
            "text/plain": [
              "\"The company's total revenues for the fiscal year that ended on June 30, 2022, were $198,270 million.\""
            ],
            "application/vnd.google.colaboratory.intrinsic+json": {
              "type": "string"
            }
          },
          "metadata": {},
          "execution_count": 22
        }
      ]
    },
    {
      "cell_type": "markdown",
      "source": [
        "By reviwing the source document we can see the value **$198,270** there hence we know the answer is correct"
      ],
      "metadata": {
        "id": "JPLPDEG92S02"
      }
    },
    {
      "cell_type": "code",
      "source": [
        "result['source_documents'][0].page_content"
      ],
      "metadata": {
        "colab": {
          "base_uri": "https://localhost:8080/",
          "height": 139
        },
        "id": "mHj581MQuMs9",
        "outputId": "024c160e-5f3a-44f2-d28e-e75080f5e865"
      },
      "execution_count": 31,
      "outputs": [
        {
          "output_type": "execute_result",
          "data": {
            "text/plain": [
              "'services, and customer service and support. Each\\nallocation is measured differently based on the\\nspecific facts and circumstances of the costs being\\nallocated.\\nSegment revenue and operating income were as follows\\nduring the periods presented:\\n \\n(In millions)\\n \\n \\n \\n \\n \\n \\n \\n \\n \\n \\n \\n \\n \\n \\n \\n \\nYear Ended June 30,\\n \\n \\n2022\\n \\n \\n \\n2021\\n \\n \\n \\n2020\\n \\n \\n \\n \\n \\n \\n \\n \\n \\n \\n \\n \\n \\n \\nRevenue\\n \\n \\n \\n \\n \\n \\n \\n \\n \\n \\n \\n \\n \\n \\n \\n \\n \\n \\n \\n \\n \\n \\n \\n \\n \\nProductivity and Business Processes\\n \\n$\\n63,364\\n \\n \\n$\\n53,915\\n \\n \\n$\\n46,398\\n \\nIntelligent Cloud\\n \\n \\n75,251\\n \\n \\n \\n60,080\\n \\n \\n \\n48,366\\n \\nMore Personal Computing\\n \\n \\n59,655\\n \\n \\n \\n54,093\\n \\n \\n \\n48,251\\n \\n \\n \\n \\n \\n \\n \\n \\n \\n \\n \\n \\n \\n \\n \\n \\n \\n \\n \\n \\n \\n \\n \\n \\nTotal\\n \\n$\\n198,270\\n \\n \\n$\\n168,088\\n \\n \\n$\\n143,015\\n \\n \\n \\n \\n \\n \\n \\n \\n \\n \\n \\n \\n \\n \\n \\n \\n \\n \\n \\n \\n \\n \\n \\n \\n \\n \\n \\nOperating Income\\n \\n \\n \\n \\n \\n \\n \\n \\n \\n \\n \\n \\n \\n \\n \\n \\n \\n \\n \\n \\n \\n \\n \\n \\n \\nProductivity and Business Processes\\n \\n$\\n29,687\\n \\n \\n$\\n24,351\\n \\n \\n$\\n18,724\\n \\nIntelligent Cloud\\n \\n \\n32,721\\n \\n \\n \\n26,126\\n \\n \\n \\n18,324\\n \\nMore Personal Computing\\n \\n \\n20,975\\n \\n \\n \\n19,439\\n \\n \\n \\n15,911\\n \\n \\n \\n \\n \\n \\n \\n \\n \\n \\n \\n \\n \\n \\n \\n \\n \\n \\n \\n \\n \\n \\n \\n \\nTotal\\n \\n$\\n83,383\\n \\n \\n$\\n69,916\\n \\n \\n$\\n52,959\\n \\n \\n \\n \\n \\n \\n \\n \\n \\n \\n \\n \\n \\n \\n \\nNo sales to an individual customer or country other\\nthan the United States accounted for more than 10% of\\nrevenue for fiscal years 2022, 2021, or 2020.\\nRevenue, classified by the major geographic areas in\\nwhich our customers were located, was as follows:\\n \\n(In millions)\\n \\n \\n \\n \\n \\n \\n \\n \\n \\n \\nYear Ended June 30,\\n \\n2022\\n \\n \\n2021\\n \\n \\n2020'"
            ],
            "application/vnd.google.colaboratory.intrinsic+json": {
              "type": "string"
            }
          },
          "metadata": {},
          "execution_count": 31
        }
      ]
    }
  ],
  "metadata": {
    "colab": {
      "name": "Welcome To Colab",
      "provenance": [],
      "include_colab_link": true
    },
    "kernelspec": {
      "display_name": "Python 3",
      "name": "python3"
    }
  },
  "nbformat": 4,
  "nbformat_minor": 0
}