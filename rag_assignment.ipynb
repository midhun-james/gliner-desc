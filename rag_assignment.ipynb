{
  "cells": [
    {
      "cell_type": "markdown",
      "metadata": {
        "id": "view-in-github",
        "colab_type": "text"
      },
      "source": [
        "<a href=\"https://colab.research.google.com/github/midhun-james/gliner-desc/blob/main/rag_assignment.ipynb\" target=\"_parent\"><img src=\"https://colab.research.google.com/assets/colab-badge.svg\" alt=\"Open In Colab\"/></a>"
      ]
    },
    {
      "cell_type": "code",
      "source": [
        "!pip install -q -U google-generativeai langchain-google-genai langchain chromadb sentence-transformers"
      ],
      "metadata": {
        "id": "MHWxIwpS5c9g"
      },
      "execution_count": 2,
      "outputs": []
    },
    {
      "cell_type": "code",
      "source": [
        "pip install pymupdf"
      ],
      "metadata": {
        "colab": {
          "base_uri": "https://localhost:8080/"
        },
        "id": "3WEDGhoRAPnn",
        "outputId": "6884d3eb-26b3-439c-de94-fde91d6b23d3"
      },
      "execution_count": 5,
      "outputs": [
        {
          "output_type": "stream",
          "name": "stdout",
          "text": [
            "Collecting pymupdf\n",
            "  Downloading pymupdf-1.26.5-cp39-abi3-manylinux_2_28_x86_64.whl.metadata (3.4 kB)\n",
            "Downloading pymupdf-1.26.5-cp39-abi3-manylinux_2_28_x86_64.whl (24.1 MB)\n",
            "\u001b[2K   \u001b[90m━━━━━━━━━━━━━━━━━━━━━━━━━━━━━━━━━━━━━━━━\u001b[0m \u001b[32m24.1/24.1 MB\u001b[0m \u001b[31m44.5 MB/s\u001b[0m eta \u001b[36m0:00:00\u001b[0m\n",
            "\u001b[?25hInstalling collected packages: pymupdf\n",
            "Successfully installed pymupdf-1.26.5\n"
          ]
        }
      ]
    },
    {
      "cell_type": "code",
      "source": [
        "import google.generativeai as genai\n",
        "from langchain_google_genai import ChatGoogleGenerativeAI\n",
        "from google.colab import userdata\n",
        "\n",
        "# Configure the API key\n",
        "api_key = userdata.get('GOOGLE_API_KEY')\n",
        "genai.configure(api_key=api_key)\n",
        "\n",
        "# Instantiate the Gemini model\n",
        "llm = ChatGoogleGenerativeAI(model=\"gemini-2.5-flash\")"
      ],
      "metadata": {
        "id": "LVkgjP776r3g"
      },
      "execution_count": 3,
      "outputs": []
    },
    {
      "cell_type": "code",
      "source": [
        "import fitz\n",
        "pdf_path='assign_3_data.txt'\n",
        "doc=fitz.open(pdf_path)\n",
        "text=''\n",
        "for page in doc:\n",
        "  text+=page.get_text()\n",
        "print(text[:500])"
      ],
      "metadata": {
        "colab": {
          "base_uri": "https://localhost:8080/"
        },
        "id": "t8r8kTE57B3n",
        "outputId": "3d2555df-3073-48cc-d587-cbfe2842a436"
      },
      "execution_count": 6,
      "outputs": [
        {
          "output_type": "stream",
          "name": "stdout",
          "text": [
            " \n",
            " \n",
            "UNITED STATES\n",
            "SECURITIES AND EXCHANGE COMMISSION\n",
            "Washington, D.C. 20549\n",
            " \n",
            "FORM 10-K\n",
            " \n",
            " \n",
            "☒\n",
            "ANNUAL REPORT PURSUANT TO SECTION 13 OR 15(d) OF THE\n",
            "SECURITIES EXCHANGE ACT OF 1934\n",
            " \n",
            " \n",
            " \n",
            "For the Fiscal Year Ended June 30, 2022\n",
            " \n",
            " \n",
            " \n",
            "OR\n",
            " \n",
            " \n",
            "☐\n",
            "TRANSITION REPORT PURSUANT TO SECTION 13 OR 15(d) OF\n",
            "THE SECURITIES EXCHANGE ACT OF 1934\n",
            " \n",
            " \n",
            " \n",
            "For the Transition Period From                  to\n",
            "Commission File Number 001-37845\n",
            " \n",
            "MICROSOFT CORPORATION\n",
            " \n",
            " \n",
            "Washington\n",
            " \n",
            "91-1144442\n",
            "(STATE OF INCORPORATION)\n",
            " \n",
            "(I\n"
          ]
        }
      ]
    },
    {
      "cell_type": "code",
      "source": [
        "from langchain.text_splitter import RecursiveCharacterTextSplitter\n"
      ],
      "metadata": {
        "id": "WZ0pSkYRBtM8"
      },
      "execution_count": 7,
      "outputs": []
    },
    {
      "cell_type": "code",
      "source": [
        "text_splitter = RecursiveCharacterTextSplitter(\n",
        "    chunk_size=1500,\n",
        "    chunk_overlap=200,\n",
        "    separators=[\"\\n\\n\", \"\\n\", \".\", \" \", \"\"]\n",
        ")\n",
        "chunks=text_splitter.split_text(text)\n",
        "\n"
      ],
      "metadata": {
        "id": "NBVROMBlB9o0"
      },
      "execution_count": 12,
      "outputs": []
    },
    {
      "cell_type": "code",
      "source": [
        "print(f'Total chunks: {len(chunks)}')\n",
        "print(f'first chunk : {chunks[0]}')"
      ],
      "metadata": {
        "id": "2VkIuBXDDFPm",
        "outputId": "29016493-7364-4fe0-8629-a01969ef1a19",
        "colab": {
          "base_uri": "https://localhost:8080/"
        }
      },
      "execution_count": 13,
      "outputs": [
        {
          "output_type": "stream",
          "name": "stdout",
          "text": [
            "Total chunks: 286\n",
            "first chunk : UNITED STATES\n",
            "SECURITIES AND EXCHANGE COMMISSION\n",
            "Washington, D.C. 20549\n",
            " \n",
            "FORM 10-K\n",
            " \n",
            " \n",
            "☒\n",
            "ANNUAL REPORT PURSUANT TO SECTION 13 OR 15(d) OF THE\n",
            "SECURITIES EXCHANGE ACT OF 1934\n",
            " \n",
            " \n",
            " \n",
            "For the Fiscal Year Ended June 30, 2022\n",
            " \n",
            " \n",
            " \n",
            "OR\n",
            " \n",
            " \n",
            "☐\n",
            "TRANSITION REPORT PURSUANT TO SECTION 13 OR 15(d) OF\n",
            "THE SECURITIES EXCHANGE ACT OF 1934\n",
            " \n",
            " \n",
            " \n",
            "For the Transition Period From                  to\n",
            "Commission File Number 001-37845\n",
            " \n",
            "MICROSOFT CORPORATION\n",
            " \n",
            " \n",
            "Washington\n",
            " \n",
            "91-1144442\n",
            "(STATE OF INCORPORATION)\n",
            " \n",
            "(I.R.S. ID)\n",
            " \n",
            "ONE MICROSOFT WAY, REDMOND, Washington 98052-6399\n",
            "(425) 882-8080\n",
            "www.microsoft.com/investor\n",
            " \n",
            " \n",
            " \n",
            " \n",
            " \n",
            "Securities registered pursuant to Section 12(b) of\n",
            "the Act:\n",
            " \n",
            " \n",
            " \n",
            " \n",
            " \n",
            " \n",
            " \n",
            " \n",
            " \n",
            "Title of each class\n",
            " \n",
            "Trading Symbol\n",
            " \n",
            "Name of exchange on which registered\n",
            " \n",
            " \n",
            " \n",
            " \n",
            " \n",
            "Common stock, $0.00000625 par value per share\n",
            " \n",
            "MSFT\n",
            " \n",
            "Nasdaq\n",
            "3.125% Notes due 2028\n",
            " \n",
            "MSFT\n",
            " \n",
            "Nasdaq\n",
            "2.625% Notes due 2033\n",
            " \n",
            "MSFT\n",
            " \n",
            "Nasdaq\n",
            " \n",
            " \n",
            " \n",
            " \n",
            " \n",
            "Securities registered pursuant to Section 12(g) of\n",
            "the Act:\n",
            " \n",
            " \n",
            " \n",
            " \n",
            " \n",
            " \n",
            " \n",
            " \n",
            " \n",
            "None\n",
            " \n",
            " \n",
            " \n",
            " \n",
            "Indicate by check mark if the registrant is a well-\n",
            "known seasoned issuer, as defined in Rule 405 of the\n",
            "Securities Act.    Yes  ☒    No  ☐\n",
            "Indicate by check mark if the registrant is not\n",
            "required to file reports pursuant to Section 13 or\n",
            "Section 15(d) of the Act.    Yes  ☐    No  ☒\n",
            "Indicate by check mark whether the registrant (1) has\n",
            "filed all reports required to be filed by Section 13\n",
            "or 15(d) of the Securities Exchange Act of 1934\n"
          ]
        }
      ]
    },
    {
      "cell_type": "code",
      "source": [
        "docs = text_splitter.create_documents([text])\n",
        "print(f\"Total documents: {len(docs)}\")\n",
        "print(docs[0].page_content[:300])"
      ],
      "metadata": {
        "id": "KWa4oKjwDh5Y",
        "outputId": "83b2ef05-2f8f-4534-a3d9-6c796f19c220",
        "colab": {
          "base_uri": "https://localhost:8080/"
        }
      },
      "execution_count": 16,
      "outputs": [
        {
          "output_type": "stream",
          "name": "stdout",
          "text": [
            "Total documents: 286\n",
            "UNITED STATES\n",
            "SECURITIES AND EXCHANGE COMMISSION\n",
            "Washington, D.C. 20549\n",
            " \n",
            "FORM 10-K\n",
            " \n",
            " \n",
            "☒\n",
            "ANNUAL REPORT PURSUANT TO SECTION 13 OR 15(d) OF THE\n",
            "SECURITIES EXCHANGE ACT OF 1934\n",
            " \n",
            " \n",
            " \n",
            "For the Fiscal Year Ended June 30, 2022\n",
            " \n",
            " \n",
            " \n",
            "OR\n",
            " \n",
            " \n",
            "☐\n",
            "TRANSITION REPORT PURSUANT TO SECTION 13 OR 15(d) OF\n",
            "THE SECURIT\n"
          ]
        }
      ]
    },
    {
      "cell_type": "code",
      "source": [],
      "metadata": {
        "id": "8dHUYTbLECb7"
      },
      "execution_count": null,
      "outputs": []
    }
  ],
  "metadata": {
    "colab": {
      "name": "Welcome To Colab",
      "provenance": [],
      "include_colab_link": true
    },
    "kernelspec": {
      "display_name": "Python 3",
      "name": "python3"
    }
  },
  "nbformat": 4,
  "nbformat_minor": 0
}